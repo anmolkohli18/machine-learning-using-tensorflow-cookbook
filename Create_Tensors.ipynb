{
  "nbformat": 4,
  "nbformat_minor": 0,
  "metadata": {
    "colab": {
      "provenance": [],
      "authorship_tag": "ABX9TyM7uFr60J+0ZKkLCWp0d5If",
      "include_colab_link": true
    },
    "kernelspec": {
      "name": "python3",
      "display_name": "Python 3"
    },
    "language_info": {
      "name": "python"
    }
  },
  "cells": [
    {
      "cell_type": "markdown",
      "metadata": {
        "id": "view-in-github",
        "colab_type": "text"
      },
      "source": [
        "<a href=\"https://colab.research.google.com/github/anmolkohli18/machine-learning-using-tensorflow-cookbook/blob/main/Create_Tensors.ipynb\" target=\"_parent\"><img src=\"https://colab.research.google.com/assets/colab-badge.svg\" alt=\"Open In Colab\"/></a>"
      ]
    },
    {
      "cell_type": "markdown",
      "source": [
        "## Fixed Size Tensors"
      ],
      "metadata": {
        "id": "pQ7_0bxAFD6u"
      }
    },
    {
      "cell_type": "code",
      "source": [
        "import tensorflow as tf"
      ],
      "metadata": {
        "id": "ULZGxw1yEoLY"
      },
      "execution_count": 1,
      "outputs": []
    },
    {
      "cell_type": "code",
      "source": [
        "row_dim, col_dim = 3, 3\n",
        "zero_tsr = tf.zeros(shape=[row_dim, col_dim], dtype=tf.float32)\n",
        "zero_tsr"
      ],
      "metadata": {
        "colab": {
          "base_uri": "https://localhost:8080/"
        },
        "id": "VrnprbaKEspg",
        "outputId": "c977488c-e13f-4eb2-ce72-ff6ca4a64f97"
      },
      "execution_count": 3,
      "outputs": [
        {
          "output_type": "execute_result",
          "data": {
            "text/plain": [
              "<tf.Tensor: shape=(3, 3), dtype=float32, numpy=\n",
              "array([[0., 0., 0.],\n",
              "       [0., 0., 0.],\n",
              "       [0., 0., 0.]], dtype=float32)>"
            ]
          },
          "metadata": {},
          "execution_count": 3
        }
      ]
    },
    {
      "cell_type": "code",
      "source": [
        "ones_tsr = tf.ones([row_dim, col_dim])\n",
        "ones_tsr"
      ],
      "metadata": {
        "colab": {
          "base_uri": "https://localhost:8080/"
        },
        "id": "YOTxTd-OFBwU",
        "outputId": "3b6d997f-1b48-4fff-9e82-d68a8b88f0c2"
      },
      "execution_count": 4,
      "outputs": [
        {
          "output_type": "execute_result",
          "data": {
            "text/plain": [
              "<tf.Tensor: shape=(3, 3), dtype=float32, numpy=\n",
              "array([[1., 1., 1.],\n",
              "       [1., 1., 1.],\n",
              "       [1., 1., 1.]], dtype=float32)>"
            ]
          },
          "metadata": {},
          "execution_count": 4
        }
      ]
    },
    {
      "cell_type": "code",
      "source": [
        "filled_tsr = tf.fill([row_dim, col_dim], 42)\n",
        "filled_tsr"
      ],
      "metadata": {
        "colab": {
          "base_uri": "https://localhost:8080/"
        },
        "id": "epLjMTcCFPq6",
        "outputId": "82d2d03f-043e-4873-c71e-1617e21d85d0"
      },
      "execution_count": 5,
      "outputs": [
        {
          "output_type": "execute_result",
          "data": {
            "text/plain": [
              "<tf.Tensor: shape=(3, 3), dtype=int32, numpy=\n",
              "array([[42, 42, 42],\n",
              "       [42, 42, 42],\n",
              "       [42, 42, 42]], dtype=int32)>"
            ]
          },
          "metadata": {},
          "execution_count": 5
        }
      ]
    },
    {
      "cell_type": "code",
      "source": [
        "constant_tsr = tf.constant([1, 2, 3])\n",
        "constant_tsr"
      ],
      "metadata": {
        "colab": {
          "base_uri": "https://localhost:8080/"
        },
        "id": "tn12RHSSFUSb",
        "outputId": "c8d3c278-1857-4914-834f-c92eb4becc59"
      },
      "execution_count": 7,
      "outputs": [
        {
          "output_type": "execute_result",
          "data": {
            "text/plain": [
              "<tf.Tensor: shape=(3,), dtype=int32, numpy=array([1, 2, 3], dtype=int32)>"
            ]
          },
          "metadata": {},
          "execution_count": 7
        }
      ]
    },
    {
      "cell_type": "markdown",
      "source": [
        "## Tensors of similar shape"
      ],
      "metadata": {
        "id": "a8PdHlAzFbZy"
      }
    },
    {
      "cell_type": "code",
      "source": [
        "zeros_similar = tf.zeros_like(constant_tsr)\n",
        "zeros_similar"
      ],
      "metadata": {
        "colab": {
          "base_uri": "https://localhost:8080/"
        },
        "id": "h4bIWAZhFXhK",
        "outputId": "690e810c-7797-433f-d1e5-b9583ac98490"
      },
      "execution_count": 8,
      "outputs": [
        {
          "output_type": "execute_result",
          "data": {
            "text/plain": [
              "<tf.Tensor: shape=(3,), dtype=int32, numpy=array([0, 0, 0], dtype=int32)>"
            ]
          },
          "metadata": {},
          "execution_count": 8
        }
      ]
    },
    {
      "cell_type": "code",
      "source": [
        "ones_similar = tf.ones_like(constant_tsr)\n",
        "ones_similar"
      ],
      "metadata": {
        "colab": {
          "base_uri": "https://localhost:8080/"
        },
        "id": "lA0w_nOaFhye",
        "outputId": "4b47d34a-624a-4050-eb6a-dca58fdc25cb"
      },
      "execution_count": 10,
      "outputs": [
        {
          "output_type": "execute_result",
          "data": {
            "text/plain": [
              "<tf.Tensor: shape=(3,), dtype=int32, numpy=array([1, 1, 1], dtype=int32)>"
            ]
          },
          "metadata": {},
          "execution_count": 10
        }
      ]
    },
    {
      "cell_type": "markdown",
      "source": [
        "## Sequence Tensors"
      ],
      "metadata": {
        "id": "lm3s1nT4FmwU"
      }
    },
    {
      "cell_type": "code",
      "source": [
        "linear_tsr = tf.linspace(start=0.0, stop=1.0, num=3)\n",
        "linear_tsr"
      ],
      "metadata": {
        "colab": {
          "base_uri": "https://localhost:8080/"
        },
        "id": "O300nBjKFki6",
        "outputId": "2205d414-c5bb-46f2-f343-c27b273840d0"
      },
      "execution_count": 11,
      "outputs": [
        {
          "output_type": "execute_result",
          "data": {
            "text/plain": [
              "<tf.Tensor: shape=(3,), dtype=float32, numpy=array([0. , 0.5, 1. ], dtype=float32)>"
            ]
          },
          "metadata": {},
          "execution_count": 11
        }
      ]
    },
    {
      "cell_type": "code",
      "source": [
        "integer_seq_tsr = tf.range(start=6, limit=15, delta=3)\n",
        "integer_seq_tsr"
      ],
      "metadata": {
        "colab": {
          "base_uri": "https://localhost:8080/"
        },
        "id": "lvOUpcrEF1d4",
        "outputId": "0e0480a9-a13e-47f4-a96a-18210bce1a48"
      },
      "execution_count": 12,
      "outputs": [
        {
          "output_type": "execute_result",
          "data": {
            "text/plain": [
              "<tf.Tensor: shape=(3,), dtype=int32, numpy=array([ 6,  9, 12], dtype=int32)>"
            ]
          },
          "metadata": {},
          "execution_count": 12
        }
      ]
    },
    {
      "cell_type": "markdown",
      "source": [
        "## Random Tensors"
      ],
      "metadata": {
        "id": "XALEyhn3GFyo"
      }
    },
    {
      "cell_type": "code",
      "source": [
        "randunif_tsr = tf.random.uniform([row_dim, col_dim], minval=0, maxval=1)\n",
        "randunif_tsr"
      ],
      "metadata": {
        "colab": {
          "base_uri": "https://localhost:8080/"
        },
        "id": "2BaQUZ3EGAxJ",
        "outputId": "421b345f-09e1-43c4-d664-112252c7ebeb"
      },
      "execution_count": 13,
      "outputs": [
        {
          "output_type": "execute_result",
          "data": {
            "text/plain": [
              "<tf.Tensor: shape=(3, 3), dtype=float32, numpy=\n",
              "array([[0.4984511 , 0.30147958, 0.16299558],\n",
              "       [0.11127651, 0.4729067 , 0.5035111 ],\n",
              "       [0.29714596, 0.5416248 , 0.9357176 ]], dtype=float32)>"
            ]
          },
          "metadata": {},
          "execution_count": 13
        }
      ]
    },
    {
      "cell_type": "code",
      "source": [
        "randnorm_tsr = tf.random.normal([row_dim, col_dim], mean=0.0, stddev=1.0)\n",
        "randnorm_tsr"
      ],
      "metadata": {
        "colab": {
          "base_uri": "https://localhost:8080/"
        },
        "id": "vnKix-oVGOX3",
        "outputId": "936fc03e-6b13-4146-a8b1-a7bc5aac3292"
      },
      "execution_count": 14,
      "outputs": [
        {
          "output_type": "execute_result",
          "data": {
            "text/plain": [
              "<tf.Tensor: shape=(3, 3), dtype=float32, numpy=\n",
              "array([[ 1.3808998 , -2.1827366 , -0.20980969],\n",
              "       [-0.5894854 ,  0.7882922 ,  0.38114628],\n",
              "       [-1.2435136 , -1.2945635 ,  0.1186499 ]], dtype=float32)>"
            ]
          },
          "metadata": {},
          "execution_count": 14
        }
      ]
    },
    {
      "cell_type": "code",
      "source": [
        "rand_trunc_norm_tsr = tf.random.truncated_normal([row_dim, col_dim],\n",
        "                                                 mean=0.0, stddev=1.0)\n",
        "rand_trunc_norm_tsr"
      ],
      "metadata": {
        "colab": {
          "base_uri": "https://localhost:8080/"
        },
        "id": "JVm9iXWrGclN",
        "outputId": "5953f50c-556c-40f0-a7db-dadf4b84fd7e"
      },
      "execution_count": 16,
      "outputs": [
        {
          "output_type": "execute_result",
          "data": {
            "text/plain": [
              "<tf.Tensor: shape=(3, 3), dtype=float32, numpy=\n",
              "array([[ 0.77390325,  0.84883064, -0.8795695 ],\n",
              "       [ 0.18934451,  1.9380071 ,  0.67222315],\n",
              "       [-0.39778146, -0.95633554, -0.6337329 ]], dtype=float32)>"
            ]
          },
          "metadata": {},
          "execution_count": 16
        }
      ]
    },
    {
      "cell_type": "code",
      "source": [
        "input_tensor = tf.convert_to_tensor([1.0, 2.0, 3.0, 4.0], dtype=tf.float32)\n",
        "shuffled_output = tf.random.shuffle(input_tensor)\n",
        "shuffled_output"
      ],
      "metadata": {
        "colab": {
          "base_uri": "https://localhost:8080/"
        },
        "id": "yzCoplO9Gy52",
        "outputId": "d8f54825-bd4d-4a6b-e628-6da258a1e9a5"
      },
      "execution_count": 20,
      "outputs": [
        {
          "output_type": "execute_result",
          "data": {
            "text/plain": [
              "<tf.Tensor: shape=(4,), dtype=float32, numpy=array([4., 2., 1., 3.], dtype=float32)>"
            ]
          },
          "metadata": {},
          "execution_count": 20
        }
      ]
    },
    {
      "cell_type": "markdown",
      "source": [
        "## Cropping Images"
      ],
      "metadata": {
        "id": "j6SaDd5mJjnU"
      }
    },
    {
      "cell_type": "code",
      "source": [
        "crop_size = (1, 2)\n",
        "input_tensor = tf.convert_to_tensor([[1.0, 2.0, 3.0],\n",
        "                                     [3.0, 4.0, 6.0],\n",
        "                                     [5.0, 7.0, 9.0]], dtype=tf.float32)\n",
        "cropped_output = tf.image.random_crop(input_tensor, crop_size)\n",
        "cropped_output"
      ],
      "metadata": {
        "colab": {
          "base_uri": "https://localhost:8080/"
        },
        "id": "veS_MRhrHPFY",
        "outputId": "5465e3d0-06ad-4874-a5a7-315f2e68fd96"
      },
      "execution_count": 27,
      "outputs": [
        {
          "output_type": "execute_result",
          "data": {
            "text/plain": [
              "<tf.Tensor: shape=(1, 2), dtype=float32, numpy=array([[7., 9.]], dtype=float32)>"
            ]
          },
          "metadata": {},
          "execution_count": 27
        }
      ]
    },
    {
      "cell_type": "code",
      "source": [
        "height, width = (64, 64)\n",
        "my_image = tf.random.uniform([height, width, 3], minval=0,\n",
        "                             maxval=255, dtype=tf.int32)\n",
        "cropped_image = tf.image.random_crop(my_image, [height // 2, width // 2, 3])\n",
        "my_image.shape, cropped_image.shape"
      ],
      "metadata": {
        "colab": {
          "base_uri": "https://localhost:8080/"
        },
        "id": "3eYcv7C7H9Py",
        "outputId": "3235f9cf-34a4-4f8d-d03d-530b671d5583"
      },
      "execution_count": 30,
      "outputs": [
        {
          "output_type": "execute_result",
          "data": {
            "text/plain": [
              "(TensorShape([64, 64, 3]), TensorShape([32, 32, 3]))"
            ]
          },
          "metadata": {},
          "execution_count": 30
        }
      ]
    },
    {
      "cell_type": "code",
      "source": [],
      "metadata": {
        "id": "Ks9Tg4VlJ6oL"
      },
      "execution_count": null,
      "outputs": []
    }
  ]
}